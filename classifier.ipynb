{
 "cells": [
  {
   "cell_type": "code",
   "execution_count": 36,
   "id": "03dacdd8",
   "metadata": {},
   "outputs": [],
   "source": [
    "import pandas as pd\n",
    "import numpy as np\n",
    "import matplotlib.pyplot as plt"
   ]
  },
  {
   "cell_type": "code",
   "execution_count": 37,
   "id": "0ca29158",
   "metadata": {},
   "outputs": [],
   "source": [
    "# useful links:\n",
    "# https://towardsdatascience.com/clustering-product-names-with-python-part-1-f9418f8705c8 (VPN needed)\n",
    "# https://towardsdatascience.com/clustering-product-names-with-python-part-2-648cc54ca2ac\n",
    "# https://stackoverflow.com/questions/56840573/python-sklearn-how-to-get-clusters-and-cluster-names-after-doing-kmeans\n",
    "# https://machinelearningmastery.ru/machine-learning-nlp-text-classification-using-scikit-learn-python-and-nltk-c52b92a7c73a/"
   ]
  },
  {
   "cell_type": "code",
   "execution_count": 38,
   "id": "6ccab43b",
   "metadata": {},
   "outputs": [
    {
     "data": {
      "text/plain": [
       "Index(['description', 'category'], dtype='object')"
      ]
     },
     "execution_count": 38,
     "metadata": {},
     "output_type": "execute_result"
    }
   ],
   "source": [
    "df = pd.read_csv('data.csv', header=None, usecols=[1,2])\n",
    "df.rename(columns={1:'description',2:'category'}, inplace=True)\n",
    "df.columns"
   ]
  },
  {
   "cell_type": "code",
   "execution_count": 39,
   "id": "c61ccc7f",
   "metadata": {},
   "outputs": [
    {
     "data": {
      "text/plain": [
       "(574, 2)"
      ]
     },
     "execution_count": 39,
     "metadata": {},
     "output_type": "execute_result"
    }
   ],
   "source": [
    "df.shape"
   ]
  },
  {
   "cell_type": "code",
   "execution_count": 40,
   "id": "d1c6692c",
   "metadata": {},
   "outputs": [
    {
     "data": {
      "text/html": [
       "<div>\n",
       "<style scoped>\n",
       "    .dataframe tbody tr th:only-of-type {\n",
       "        vertical-align: middle;\n",
       "    }\n",
       "\n",
       "    .dataframe tbody tr th {\n",
       "        vertical-align: top;\n",
       "    }\n",
       "\n",
       "    .dataframe thead th {\n",
       "        text-align: right;\n",
       "    }\n",
       "</style>\n",
       "<table border=\"1\" class=\"dataframe\">\n",
       "  <thead>\n",
       "    <tr style=\"text-align: right;\">\n",
       "      <th></th>\n",
       "      <th>description</th>\n",
       "      <th>category</th>\n",
       "    </tr>\n",
       "  </thead>\n",
       "  <tbody>\n",
       "    <tr>\n",
       "      <th>0</th>\n",
       "      <td>Suva Svinjska Pecenica    Matijevic Slajs 100G</td>\n",
       "      <td>semi-finished products</td>\n",
       "    </tr>\n",
       "    <tr>\n",
       "      <th>1</th>\n",
       "      <td>Panceta Matijevic       Slajs 150G</td>\n",
       "      <td>semi-finished products</td>\n",
       "    </tr>\n",
       "    <tr>\n",
       "      <th>2</th>\n",
       "      <td>Pršuta Slajs Martex 100G</td>\n",
       "      <td>semi-finished products</td>\n",
       "    </tr>\n",
       "    <tr>\n",
       "      <th>3</th>\n",
       "      <td>Suvi Vrat Martex 100G</td>\n",
       "      <td>semi-finished products</td>\n",
       "    </tr>\n",
       "    <tr>\n",
       "      <th>4</th>\n",
       "      <td>Sunka Pik Vrbovec Fina 150G</td>\n",
       "      <td>semi-finished products</td>\n",
       "    </tr>\n",
       "    <tr>\n",
       "      <th>5</th>\n",
       "      <td>Zimska salama Pik Vrbovec 100g</td>\n",
       "      <td>semi-finished products</td>\n",
       "    </tr>\n",
       "    <tr>\n",
       "      <th>6</th>\n",
       "      <td>Prsut Majstor mesar lovcenski slajs 100g</td>\n",
       "      <td>semi-finished products</td>\n",
       "    </tr>\n",
       "    <tr>\n",
       "      <th>7</th>\n",
       "      <td>Prsut Pik Vrbovec Dalmatinski 100G</td>\n",
       "      <td>semi-finished products</td>\n",
       "    </tr>\n",
       "    <tr>\n",
       "      <th>8</th>\n",
       "      <td>Cajna Kobasica Matijevic Slajs 100G</td>\n",
       "      <td>semi-finished products</td>\n",
       "    </tr>\n",
       "    <tr>\n",
       "      <th>9</th>\n",
       "      <td>Cajna Kobasica Goranovic Slajs 100G</td>\n",
       "      <td>semi-finished products</td>\n",
       "    </tr>\n",
       "    <tr>\n",
       "      <th>10</th>\n",
       "      <td>Cajna kobasica Pik Vrbovec slajs 100g</td>\n",
       "      <td>semi-finished products</td>\n",
       "    </tr>\n",
       "    <tr>\n",
       "      <th>11</th>\n",
       "      <td>Kulen Matijevic Slajs 100G</td>\n",
       "      <td>semi-finished products</td>\n",
       "    </tr>\n",
       "    <tr>\n",
       "      <th>12</th>\n",
       "      <td>Kulen Topola Vp Slajs 100G</td>\n",
       "      <td>semi-finished products</td>\n",
       "    </tr>\n",
       "    <tr>\n",
       "      <th>13</th>\n",
       "      <td>Kulen Goranovic slajs 100g</td>\n",
       "      <td>semi-finished products</td>\n",
       "    </tr>\n",
       "    <tr>\n",
       "      <th>14</th>\n",
       "      <td>Izletnicka Salama Topola Slajs Vp 100G</td>\n",
       "      <td>semi-finished products</td>\n",
       "    </tr>\n",
       "    <tr>\n",
       "      <th>15</th>\n",
       "      <td>Piknik Salama Topola Slajs 100G</td>\n",
       "      <td>semi-finished products</td>\n",
       "    </tr>\n",
       "    <tr>\n",
       "      <th>16</th>\n",
       "      <td>Mortadela Pik Vrbovec slajs 150g</td>\n",
       "      <td>semi-finished products</td>\n",
       "    </tr>\n",
       "    <tr>\n",
       "      <th>17</th>\n",
       "      <td>Panona Salama Pik Vrbovec Slajs 100G</td>\n",
       "      <td>semi-finished products</td>\n",
       "    </tr>\n",
       "    <tr>\n",
       "      <th>18</th>\n",
       "      <td>Zlatiborac Slajs  Čajna Kobasica 100Gr</td>\n",
       "      <td>semi-finished products</td>\n",
       "    </tr>\n",
       "    <tr>\n",
       "      <th>19</th>\n",
       "      <td>Zlatiborac Slajs Goveđa Čajna kobasica 100gr</td>\n",
       "      <td>semi-finished products</td>\n",
       "    </tr>\n",
       "  </tbody>\n",
       "</table>\n",
       "</div>"
      ],
      "text/plain": [
       "                                       description                category\n",
       "0   Suva Svinjska Pecenica    Matijevic Slajs 100G  semi-finished products\n",
       "1               Panceta Matijevic       Slajs 150G  semi-finished products\n",
       "2                         Pršuta Slajs Martex 100G  semi-finished products\n",
       "3                            Suvi Vrat Martex 100G  semi-finished products\n",
       "4                      Sunka Pik Vrbovec Fina 150G  semi-finished products\n",
       "5                   Zimska salama Pik Vrbovec 100g  semi-finished products\n",
       "6         Prsut Majstor mesar lovcenski slajs 100g  semi-finished products\n",
       "7               Prsut Pik Vrbovec Dalmatinski 100G  semi-finished products\n",
       "8              Cajna Kobasica Matijevic Slajs 100G  semi-finished products\n",
       "9              Cajna Kobasica Goranovic Slajs 100G  semi-finished products\n",
       "10           Cajna kobasica Pik Vrbovec slajs 100g  semi-finished products\n",
       "11                      Kulen Matijevic Slajs 100G  semi-finished products\n",
       "12                      Kulen Topola Vp Slajs 100G  semi-finished products\n",
       "13                      Kulen Goranovic slajs 100g  semi-finished products\n",
       "14          Izletnicka Salama Topola Slajs Vp 100G  semi-finished products\n",
       "15                 Piknik Salama Topola Slajs 100G  semi-finished products\n",
       "16                Mortadela Pik Vrbovec slajs 150g  semi-finished products\n",
       "17            Panona Salama Pik Vrbovec Slajs 100G  semi-finished products\n",
       "18          Zlatiborac Slajs  Čajna Kobasica 100Gr  semi-finished products\n",
       "19    Zlatiborac Slajs Goveđa Čajna kobasica 100gr  semi-finished products"
      ]
     },
     "execution_count": 40,
     "metadata": {},
     "output_type": "execute_result"
    }
   ],
   "source": [
    "df.head(20)"
   ]
  },
  {
   "cell_type": "code",
   "execution_count": 41,
   "id": "c7c9447c",
   "metadata": {},
   "outputs": [
    {
     "data": {
      "text/plain": [
       "<BarContainer object of 17 artists>"
      ]
     },
     "execution_count": 41,
     "metadata": {},
     "output_type": "execute_result"
    },
    {
     "data": {
      "image/png": "[encoded data removed]",
      "text/plain": [
       "<Figure size 640x480 with 1 Axes>"
      ]
     },
     "metadata": {},
     "output_type": "display_data"
    }
   ],
   "source": [
    "class_counts = df.groupby(['category'], as_index=False).count().rename(columns={'description':'count'})\n",
    "plt.xlabel('Counts')\n",
    "plt.barh(class_counts['category'], class_counts['count'])"
   ]
  },
  {
   "cell_type": "code",
   "execution_count": 43,
   "id": "099bb367",
   "metadata": {},
   "outputs": [],
   "source": [
    "# this does magic with words\n",
    "from sklearn.feature_extraction.text import CountVectorizer\n",
    "# transforms the results of previous magic\n",
    "from sklearn.feature_extraction.text import TfidfTransformer \n",
    "# automatic subdivision dataset to train/test data with changing parts\n",
    "from sklearn.model_selection import cross_val_score\n",
    "# Naive Bayes classifyer\n",
    "from sklearn.naive_bayes import MultinomialNB"
   ]
  },
  {
   "cell_type": "code",
   "execution_count": 44,
   "id": "6bcabc83",
   "metadata": {},
   "outputs": [
    {
     "name": "stdout",
     "output_type": "stream",
     "text": [
      "(574, 913)\n"
     ]
    }
   ],
   "source": [
    "count_vect = CountVectorizer() # created the vectorizer\n",
    "X_tot = count_vect.fit_transform(df.description) # making word vectors out of our product names\n",
    "print(X_tot.shape) # just curious, what is the size of the result\n",
    "# first try just count vectorizer without Tfidf Transformer \n",
    "# (the latter reduces weight of frequent words but in our case I have no idea, which words might\n",
    "# be lowered in weight, may be, mass/volume specified in the product name, but we might \n",
    "# cut it off in advance, I think it would be better)\n",
    "\n",
    "Y_tot = df.category"
   ]
  },
  {
   "cell_type": "code",
   "execution_count": 31,
   "id": "abe759d3",
   "metadata": {},
   "outputs": [],
   "source": [
    "product_categ_clf_NB = MultinomialNB() # created the classifyer\n"
   ]
  }
 ],
 "metadata": {
  "kernelspec": {
   "display_name": "Python 3 (ipykernel)",
   "language": "python",
   "name": "python3"
  },
  "language_info": {
   "codemirror_mode": {
    "name": "ipython",
    "version": 3
   },
   "file_extension": ".py",
   "mimetype": "text/x-python",
   "name": "python",
   "nbconvert_exporter": "python",
   "pygments_lexer": "ipython3",
   "version": "3.9.13"
  }
 },
 "nbformat": 4,
 "nbformat_minor": 5
}
